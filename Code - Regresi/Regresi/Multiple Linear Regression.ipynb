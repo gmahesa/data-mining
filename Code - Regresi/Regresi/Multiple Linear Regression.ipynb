{
 "cells": [
  {
   "cell_type": "code",
   "execution_count": 14,
   "metadata": {},
   "outputs": [],
   "source": [
    "import pandas as pd\n",
    "import numpy as np\n",
    "import matplotlib.pyplot as plt\n",
    "from sklearn.linear_model import LinearRegression\n",
    "from sklearn import metrics\n",
    "from sklearn.model_selection import train_test_split"
   ]
  },
  {
   "cell_type": "code",
   "execution_count": 25,
   "metadata": {},
   "outputs": [
    {
     "data": {
      "text/html": [
       "<div>\n",
       "<style scoped>\n",
       "    .dataframe tbody tr th:only-of-type {\n",
       "        vertical-align: middle;\n",
       "    }\n",
       "\n",
       "    .dataframe tbody tr th {\n",
       "        vertical-align: top;\n",
       "    }\n",
       "\n",
       "    .dataframe thead th {\n",
       "        text-align: right;\n",
       "    }\n",
       "</style>\n",
       "<table border=\"1\" class=\"dataframe\">\n",
       "  <thead>\n",
       "    <tr style=\"text-align: right;\">\n",
       "      <th></th>\n",
       "      <th>Nama</th>\n",
       "      <th>Tugas</th>\n",
       "      <th>Quiz</th>\n",
       "      <th>UTS</th>\n",
       "      <th>UAS</th>\n",
       "      <th>Absensi</th>\n",
       "      <th>NA</th>\n",
       "    </tr>\n",
       "  </thead>\n",
       "  <tbody>\n",
       "    <tr>\n",
       "      <td>0</td>\n",
       "      <td>Adi</td>\n",
       "      <td>75</td>\n",
       "      <td>35</td>\n",
       "      <td>63</td>\n",
       "      <td>85</td>\n",
       "      <td>98</td>\n",
       "      <td>72.90</td>\n",
       "    </tr>\n",
       "    <tr>\n",
       "      <td>1</td>\n",
       "      <td>Suci</td>\n",
       "      <td>48</td>\n",
       "      <td>53</td>\n",
       "      <td>74</td>\n",
       "      <td>49</td>\n",
       "      <td>78</td>\n",
       "      <td>56.15</td>\n",
       "    </tr>\n",
       "    <tr>\n",
       "      <td>2</td>\n",
       "      <td>Tino</td>\n",
       "      <td>55</td>\n",
       "      <td>73</td>\n",
       "      <td>81</td>\n",
       "      <td>76</td>\n",
       "      <td>66</td>\n",
       "      <td>71.20</td>\n",
       "    </tr>\n",
       "    <tr>\n",
       "      <td>3</td>\n",
       "      <td>Andi</td>\n",
       "      <td>49</td>\n",
       "      <td>27</td>\n",
       "      <td>66</td>\n",
       "      <td>53</td>\n",
       "      <td>89</td>\n",
       "      <td>51.90</td>\n",
       "    </tr>\n",
       "    <tr>\n",
       "      <td>4</td>\n",
       "      <td>Rina</td>\n",
       "      <td>40</td>\n",
       "      <td>44</td>\n",
       "      <td>67</td>\n",
       "      <td>54</td>\n",
       "      <td>60</td>\n",
       "      <td>50.80</td>\n",
       "    </tr>\n",
       "    <tr>\n",
       "      <td>5</td>\n",
       "      <td>Deny</td>\n",
       "      <td>23</td>\n",
       "      <td>38</td>\n",
       "      <td>70</td>\n",
       "      <td>48</td>\n",
       "      <td>99</td>\n",
       "      <td>51.25</td>\n",
       "    </tr>\n",
       "    <tr>\n",
       "      <td>6</td>\n",
       "      <td>Lina</td>\n",
       "      <td>59</td>\n",
       "      <td>39</td>\n",
       "      <td>50</td>\n",
       "      <td>52</td>\n",
       "      <td>66</td>\n",
       "      <td>53.50</td>\n",
       "    </tr>\n",
       "    <tr>\n",
       "      <td>7</td>\n",
       "      <td>Tias</td>\n",
       "      <td>73</td>\n",
       "      <td>35</td>\n",
       "      <td>59</td>\n",
       "      <td>73</td>\n",
       "      <td>69</td>\n",
       "      <td>66.10</td>\n",
       "    </tr>\n",
       "    <tr>\n",
       "      <td>8</td>\n",
       "      <td>Nazier</td>\n",
       "      <td>74</td>\n",
       "      <td>57</td>\n",
       "      <td>71</td>\n",
       "      <td>64</td>\n",
       "      <td>98</td>\n",
       "      <td>74.25</td>\n",
       "    </tr>\n",
       "    <tr>\n",
       "      <td>9</td>\n",
       "      <td>Galuh</td>\n",
       "      <td>79</td>\n",
       "      <td>38</td>\n",
       "      <td>86</td>\n",
       "      <td>86</td>\n",
       "      <td>57</td>\n",
       "      <td>77.45</td>\n",
       "    </tr>\n",
       "    <tr>\n",
       "      <td>10</td>\n",
       "      <td>Deby</td>\n",
       "      <td>24</td>\n",
       "      <td>50</td>\n",
       "      <td>81</td>\n",
       "      <td>56</td>\n",
       "      <td>63</td>\n",
       "      <td>46.60</td>\n",
       "    </tr>\n",
       "    <tr>\n",
       "      <td>11</td>\n",
       "      <td>Rony</td>\n",
       "      <td>35</td>\n",
       "      <td>64</td>\n",
       "      <td>54</td>\n",
       "      <td>59</td>\n",
       "      <td>53</td>\n",
       "      <td>46.75</td>\n",
       "    </tr>\n",
       "    <tr>\n",
       "      <td>12</td>\n",
       "      <td>Dandi</td>\n",
       "      <td>84</td>\n",
       "      <td>34</td>\n",
       "      <td>71</td>\n",
       "      <td>74</td>\n",
       "      <td>88</td>\n",
       "      <td>74.30</td>\n",
       "    </tr>\n",
       "    <tr>\n",
       "      <td>13</td>\n",
       "      <td>Azka</td>\n",
       "      <td>50</td>\n",
       "      <td>27</td>\n",
       "      <td>47</td>\n",
       "      <td>66</td>\n",
       "      <td>75</td>\n",
       "      <td>49.65</td>\n",
       "    </tr>\n",
       "    <tr>\n",
       "      <td>14</td>\n",
       "      <td>Reno</td>\n",
       "      <td>61</td>\n",
       "      <td>60</td>\n",
       "      <td>78</td>\n",
       "      <td>48</td>\n",
       "      <td>72</td>\n",
       "      <td>65.75</td>\n",
       "    </tr>\n",
       "    <tr>\n",
       "      <td>15</td>\n",
       "      <td>Sandi</td>\n",
       "      <td>35</td>\n",
       "      <td>45</td>\n",
       "      <td>74</td>\n",
       "      <td>69</td>\n",
       "      <td>99</td>\n",
       "      <td>60.50</td>\n",
       "    </tr>\n",
       "    <tr>\n",
       "      <td>16</td>\n",
       "      <td>Linda</td>\n",
       "      <td>64</td>\n",
       "      <td>73</td>\n",
       "      <td>73</td>\n",
       "      <td>59</td>\n",
       "      <td>86</td>\n",
       "      <td>70.35</td>\n",
       "    </tr>\n",
       "    <tr>\n",
       "      <td>17</td>\n",
       "      <td>Sinta</td>\n",
       "      <td>29</td>\n",
       "      <td>39</td>\n",
       "      <td>47</td>\n",
       "      <td>82</td>\n",
       "      <td>98</td>\n",
       "      <td>52.60</td>\n",
       "    </tr>\n",
       "    <tr>\n",
       "      <td>18</td>\n",
       "      <td>Marni</td>\n",
       "      <td>88</td>\n",
       "      <td>53</td>\n",
       "      <td>88</td>\n",
       "      <td>46</td>\n",
       "      <td>84</td>\n",
       "      <td>73.95</td>\n",
       "    </tr>\n",
       "    <tr>\n",
       "      <td>19</td>\n",
       "      <td>Fandi</td>\n",
       "      <td>38</td>\n",
       "      <td>57</td>\n",
       "      <td>71</td>\n",
       "      <td>71</td>\n",
       "      <td>91</td>\n",
       "      <td>58.35</td>\n",
       "    </tr>\n",
       "  </tbody>\n",
       "</table>\n",
       "</div>"
      ],
      "text/plain": [
       "      Nama  Tugas  Quiz  UTS  UAS  Absensi     NA\n",
       "0      Adi     75    35   63   85       98  72.90\n",
       "1     Suci     48    53   74   49       78  56.15\n",
       "2     Tino     55    73   81   76       66  71.20\n",
       "3     Andi     49    27   66   53       89  51.90\n",
       "4     Rina     40    44   67   54       60  50.80\n",
       "5     Deny     23    38   70   48       99  51.25\n",
       "6     Lina     59    39   50   52       66  53.50\n",
       "7     Tias     73    35   59   73       69  66.10\n",
       "8   Nazier     74    57   71   64       98  74.25\n",
       "9    Galuh     79    38   86   86       57  77.45\n",
       "10    Deby     24    50   81   56       63  46.60\n",
       "11    Rony     35    64   54   59       53  46.75\n",
       "12   Dandi     84    34   71   74       88  74.30\n",
       "13    Azka     50    27   47   66       75  49.65\n",
       "14    Reno     61    60   78   48       72  65.75\n",
       "15   Sandi     35    45   74   69       99  60.50\n",
       "16   Linda     64    73   73   59       86  70.35\n",
       "17   Sinta     29    39   47   82       98  52.60\n",
       "18   Marni     88    53   88   46       84  73.95\n",
       "19   Fandi     38    57   71   71       91  58.35"
      ]
     },
     "execution_count": 25,
     "metadata": {},
     "output_type": "execute_result"
    }
   ],
   "source": [
    "dataset = pd.read_csv('data_multiple.csv')\n",
    "dataset"
   ]
  },
  {
   "cell_type": "code",
   "execution_count": 26,
   "metadata": {},
   "outputs": [],
   "source": [
    "X = dataset[['Tugas', 'Quiz', 'UTS', 'UAS', 'Absensi']].values\n",
    "Y = dataset['NA'].values"
   ]
  },
  {
   "cell_type": "code",
   "execution_count": 27,
   "metadata": {},
   "outputs": [],
   "source": [
    "X_train, X_test, Y_train, Y_test = train_test_split(X, Y, test_size=0.2, random_state=0)"
   ]
  },
  {
   "cell_type": "code",
   "execution_count": 28,
   "metadata": {},
   "outputs": [
    {
     "data": {
      "text/plain": [
       "LinearRegression(copy_X=True, fit_intercept=True, n_jobs=None, normalize=False)"
      ]
     },
     "execution_count": 28,
     "metadata": {},
     "output_type": "execute_result"
    }
   ],
   "source": [
    "regressor = LinearRegression()\n",
    "regressor.fit(X_train, Y_train)"
   ]
  },
  {
   "cell_type": "code",
   "execution_count": 29,
   "metadata": {},
   "outputs": [
    {
     "name": "stdout",
     "output_type": "stream",
     "text": [
      "-14.104615250972778\n"
     ]
    }
   ],
   "source": [
    "print(regressor.intercept_)"
   ]
  },
  {
   "cell_type": "code",
   "execution_count": 30,
   "metadata": {},
   "outputs": [
    {
     "name": "stdout",
     "output_type": "stream",
     "text": [
      "[0.38724224 0.17561218 0.27686873 0.22736405 0.16593913]\n"
     ]
    }
   ],
   "source": [
    "print(regressor.coef_)"
   ]
  },
  {
   "cell_type": "code",
   "execution_count": 31,
   "metadata": {},
   "outputs": [
    {
     "data": {
      "text/html": [
       "<div>\n",
       "<style scoped>\n",
       "    .dataframe tbody tr th:only-of-type {\n",
       "        vertical-align: middle;\n",
       "    }\n",
       "\n",
       "    .dataframe tbody tr th {\n",
       "        vertical-align: top;\n",
       "    }\n",
       "\n",
       "    .dataframe thead th {\n",
       "        text-align: right;\n",
       "    }\n",
       "</style>\n",
       "<table border=\"1\" class=\"dataframe\">\n",
       "  <thead>\n",
       "    <tr style=\"text-align: right;\">\n",
       "      <th></th>\n",
       "      <th>Coefficient</th>\n",
       "    </tr>\n",
       "  </thead>\n",
       "  <tbody>\n",
       "    <tr>\n",
       "      <td>Tugas</td>\n",
       "      <td>0.387242</td>\n",
       "    </tr>\n",
       "    <tr>\n",
       "      <td>Quiz</td>\n",
       "      <td>0.175612</td>\n",
       "    </tr>\n",
       "    <tr>\n",
       "      <td>UTS</td>\n",
       "      <td>0.276869</td>\n",
       "    </tr>\n",
       "    <tr>\n",
       "      <td>UAS</td>\n",
       "      <td>0.227364</td>\n",
       "    </tr>\n",
       "    <tr>\n",
       "      <td>Absensi</td>\n",
       "      <td>0.165939</td>\n",
       "    </tr>\n",
       "  </tbody>\n",
       "</table>\n",
       "</div>"
      ],
      "text/plain": [
       "         Coefficient\n",
       "Tugas       0.387242\n",
       "Quiz        0.175612\n",
       "UTS         0.276869\n",
       "UAS         0.227364\n",
       "Absensi     0.165939"
      ]
     },
     "execution_count": 31,
     "metadata": {},
     "output_type": "execute_result"
    }
   ],
   "source": [
    "coeff_df = pd.DataFrame(regressor.coef_, ['Tugas', 'Quiz', 'UTS', 'UAS', 'Absensi'], columns=['Coefficient'])  \n",
    "coeff_df"
   ]
  },
  {
   "cell_type": "code",
   "execution_count": 32,
   "metadata": {},
   "outputs": [],
   "source": [
    "y_pred = regressor.predict(X_test)"
   ]
  },
  {
   "cell_type": "code",
   "execution_count": 33,
   "metadata": {},
   "outputs": [
    {
     "data": {
      "text/html": [
       "<div>\n",
       "<style scoped>\n",
       "    .dataframe tbody tr th:only-of-type {\n",
       "        vertical-align: middle;\n",
       "    }\n",
       "\n",
       "    .dataframe tbody tr th {\n",
       "        vertical-align: top;\n",
       "    }\n",
       "\n",
       "    .dataframe thead th {\n",
       "        text-align: right;\n",
       "    }\n",
       "</style>\n",
       "<table border=\"1\" class=\"dataframe\">\n",
       "  <thead>\n",
       "    <tr style=\"text-align: right;\">\n",
       "      <th></th>\n",
       "      <th>Actual</th>\n",
       "      <th>Predicted</th>\n",
       "    </tr>\n",
       "  </thead>\n",
       "  <tbody>\n",
       "    <tr>\n",
       "      <td>0</td>\n",
       "      <td>73.95</td>\n",
       "      <td>78.042229</td>\n",
       "    </tr>\n",
       "    <tr>\n",
       "      <td>1</td>\n",
       "      <td>56.15</td>\n",
       "      <td>58.362835</td>\n",
       "    </tr>\n",
       "    <tr>\n",
       "      <td>2</td>\n",
       "      <td>58.35</td>\n",
       "      <td>61.521473</td>\n",
       "    </tr>\n",
       "    <tr>\n",
       "      <td>3</td>\n",
       "      <td>74.25</td>\n",
       "      <td>75.032219</td>\n",
       "    </tr>\n",
       "  </tbody>\n",
       "</table>\n",
       "</div>"
      ],
      "text/plain": [
       "   Actual  Predicted\n",
       "0   73.95  78.042229\n",
       "1   56.15  58.362835\n",
       "2   58.35  61.521473\n",
       "3   74.25  75.032219"
      ]
     },
     "execution_count": 33,
     "metadata": {},
     "output_type": "execute_result"
    }
   ],
   "source": [
    "df = pd.DataFrame({'Actual': Y_test, 'Predicted': y_pred})\n",
    "df"
   ]
  },
  {
   "cell_type": "code",
   "execution_count": 34,
   "metadata": {},
   "outputs": [
    {
     "name": "stdout",
     "output_type": "stream",
     "text": [
      "Mean Absolute Error: 2.564688739779964\n",
      "Mean Squared Error: 8.078270036853388\n",
      "Root Mean Squared Error: 2.8422297649650683\n"
     ]
    }
   ],
   "source": [
    "print('Mean Absolute Error:', metrics.mean_absolute_error(Y_test, y_pred))  \n",
    "print('Mean Squared Error:', metrics.mean_squared_error(Y_test, y_pred))  \n",
    "print('Root Mean Squared Error:', np.sqrt(metrics.mean_squared_error(Y_test, y_pred)))"
   ]
  }
 ],
 "metadata": {
  "kernelspec": {
   "display_name": "Python 3",
   "language": "python",
   "name": "python3"
  },
  "language_info": {
   "codemirror_mode": {
    "name": "ipython",
    "version": 3
   },
   "file_extension": ".py",
   "mimetype": "text/x-python",
   "name": "python",
   "nbconvert_exporter": "python",
   "pygments_lexer": "ipython3",
   "version": "3.7.4"
  }
 },
 "nbformat": 4,
 "nbformat_minor": 2
}
